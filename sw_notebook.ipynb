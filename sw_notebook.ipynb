{
 "cells": [
  {
   "cell_type": "code",
   "execution_count": 159,
   "metadata": {},
   "outputs": [],
   "source": [
    "import networkx as nx\n",
    "from pyvis.network import Network\n",
    "import json"
   ]
  },
  {
   "attachments": {},
   "cell_type": "markdown",
   "metadata": {},
   "source": [
    "### Dataset Citation:"
   ]
  },
  {
   "attachments": {},
   "cell_type": "markdown",
   "metadata": {},
   "source": [
    "@misc{gabasova_star_wars_2016, <br>\n",
    "  author  = {Evelina Gabasova}, <br>\n",
    "  title   = {{Star Wars social network}}, <br>\n",
    "  year    = 2016, <br>\n",
    "  url     = {https://doi.org/10.5281/zenodo.1411479}, <br>\n",
    "  doi     = {10.5281/zenodo.1411479} <br>\n",
    " }"
   ]
  },
  {
   "attachments": {},
   "cell_type": "markdown",
   "metadata": {},
   "source": [
    "# Star Wars Social Network - Graph and Analysis"
   ]
  },
  {
   "attachments": {},
   "cell_type": "markdown",
   "metadata": {},
   "source": [
    "There are multiple .json files in the directory. The names are ordered like this: 'sw_n', where 'n' is the movie episode number. File without 'n' contains data from all 7 movies."
   ]
  },
  {
   "cell_type": "code",
   "execution_count": 160,
   "metadata": {},
   "outputs": [],
   "source": [
    "file_name = \"data/sw.json\""
   ]
  },
  {
   "attachments": {},
   "cell_type": "markdown",
   "metadata": {},
   "source": [
    "Finds nodes from .json file"
   ]
  },
  {
   "cell_type": "code",
   "execution_count": 161,
   "metadata": {},
   "outputs": [],
   "source": [
    "with open(file_name) as input_file:\n",
    "        json_data = json.load(input_file)\n",
    "        # open json file with information on characters and apperances\n",
    "        node_result =  []                   \n",
    "        for character in json_data[\"nodes\"]:\n",
    "            for key, val in character.items():          \n",
    "                if key == \"name\":     \n",
    "                    temp1 = val                          \n",
    "                if key == \"value\":\n",
    "                    temp2 = val\n",
    "                if key == \"colour\":\n",
    "                    temp3 = val\n",
    "\n",
    "                    # temp 1,2,3 : character, number of apperances, color\n",
    "                    temp_list = [temp1, temp2, temp3]\n",
    "                    node_result.append(temp_list)"
   ]
  },
  {
   "attachments": {},
   "cell_type": "markdown",
   "metadata": {},
   "source": [
    "Finds edges/links from .json file"
   ]
  },
  {
   "cell_type": "code",
   "execution_count": 162,
   "metadata": {},
   "outputs": [],
   "source": [
    "with open(file_name) as input_file:\n",
    "        json_data = json.load(input_file)\n",
    "\n",
    "        edge_result =  []                                    \n",
    "        for character in json_data[\"links\"]:          \n",
    "            for key, val in character.items():          \n",
    "                if key == \"source\":     \n",
    "                    temp1 = val                          \n",
    "                if key == \"target\":\n",
    "                    temp2 = val\n",
    "                if key == \"value\":\n",
    "                    temp3 = val\n",
    "\n",
    "                    # the values are: source, target, value\n",
    "                    temp_list =[temp1,temp2,temp3]\n",
    "                    edge_result.append(temp_list)"
   ]
  },
  {
   "attachments": {},
   "cell_type": "markdown",
   "metadata": {},
   "source": [
    "Create a networkx graph"
   ]
  },
  {
   "cell_type": "code",
   "execution_count": 163,
   "metadata": {},
   "outputs": [],
   "source": [
    "network = nx.Graph()"
   ]
  },
  {
   "attachments": {},
   "cell_type": "markdown",
   "metadata": {},
   "source": [
    "Adds nodes to the network"
   ]
  },
  {
   "cell_type": "code",
   "execution_count": 164,
   "metadata": {},
   "outputs": [],
   "source": [
    "for val in node_result:\n",
    "    temp1 = val[0]      # name of the character\n",
    "    temp2 = val[1]      # value, num of apperances\n",
    "    temp3 = val[2]      # color\n",
    "    \n",
    "    # colorcode \"#808080\" means the caracter is not a Main character.\n",
    "    # we give nodes with other color a bigger font size and bigger value to adjust node size\n",
    "    if temp3 != \"#808080\":\n",
    "        network.add_node(temp1, label=temp1, font={\"size\":50, \"color\":\"white\"}, value=(temp2+500),\n",
    "                         title=f\"Name: {temp1}\\nApperances: {temp2}\", color=temp3)\n",
    "    else:\n",
    "        network.add_node(temp1, label=temp1, font={\"size\":20, \"color\":\"white\"},value=temp2,\n",
    "                         title=f\"Name: {temp1}\\nApperances: {temp2}\") "
   ]
  },
  {
   "attachments": {},
   "cell_type": "markdown",
   "metadata": {},
   "source": [
    "Adds edges/links between the nodes"
   ]
  },
  {
   "cell_type": "code",
   "execution_count": 165,
   "metadata": {},
   "outputs": [],
   "source": [
    "for val in edge_result:\n",
    "    source = val[0]     # from character\n",
    "    target = val[1]     # to -> character\n",
    "    value = val[2]      # tot scenes 2 character are in together\n",
    "\n",
    "    temp1 = node_result[source]     # source character\n",
    "    temp2 = node_result[target]     # target character\n",
    "\n",
    "    network.add_edge(temp1[0], temp2[0], color=\"#5689CE\", value=value)"
   ]
  },
  {
   "attachments": {},
   "cell_type": "markdown",
   "metadata": {},
   "source": [
    "Settings for Network graph "
   ]
  },
  {
   "cell_type": "code",
   "execution_count": 166,
   "metadata": {},
   "outputs": [],
   "source": [
    "net = Network(height=\"100%\", width=\"100%\", heading=\"STAR WARS social network\", bgcolor=\"#272929\")\n",
    "\n",
    "net.force_atlas_2based()\n",
    "net.toggle_physics(True)\n",
    "net.from_nx(network)"
   ]
  },
  {
   "attachments": {},
   "cell_type": "markdown",
   "metadata": {},
   "source": [
    "### Show complete network graph"
   ]
  },
  {
   "cell_type": "code",
   "execution_count": 167,
   "metadata": {},
   "outputs": [],
   "source": [
    "net.show(\"network_drawing.html\")"
   ]
  },
  {
   "attachments": {},
   "cell_type": "markdown",
   "metadata": {},
   "source": [
    "## Analysis of the network"
   ]
  },
  {
   "attachments": {},
   "cell_type": "markdown",
   "metadata": {},
   "source": [
    "Implementation of Quick Sort algorithm. This is used to sort the characters number of apperances by High -> Low"
   ]
  },
  {
   "cell_type": "code",
   "execution_count": 10,
   "metadata": {},
   "outputs": [],
   "source": [
    "def quick_sort(arr):\n",
    "    if not arr:\n",
    "        return arr\n",
    "    \n",
    "    pivot = arr[0]\n",
    "    lesser = [i for i in arr[1:] if i[1] <= pivot[1]]\n",
    "    greater = [i for i in arr[1:] if i[1] > pivot[1]]\n",
    "\n",
    "    return quick_sort(greater) + [pivot] + \\\n",
    "            quick_sort(lesser)"
   ]
  },
  {
   "attachments": {},
   "cell_type": "markdown",
   "metadata": {},
   "source": [
    "### Analysis methods"
   ]
  },
  {
   "attachments": {},
   "cell_type": "markdown",
   "metadata": {},
   "source": [
    "1. Chosen characters total apperances"
   ]
  },
  {
   "cell_type": "code",
   "execution_count": 19,
   "metadata": {},
   "outputs": [
    {
     "name": "stdout",
     "output_type": "stream",
     "text": [
      "DARTH VADER has 147 apperances\n"
     ]
    }
   ],
   "source": [
    "user_choice = str(input(\"Check character apperances: \")).upper()\n",
    "\n",
    "for i in node_result:\n",
    "    if i[0] == user_choice:\n",
    "        print(f\"{i[0]} has {i[1]} apperances\")"
   ]
  },
  {
   "attachments": {},
   "cell_type": "markdown",
   "metadata": {},
   "source": [
    "2. Chosen characters total relations"
   ]
  },
  {
   "cell_type": "code",
   "execution_count": 12,
   "metadata": {},
   "outputs": [
    {
     "name": "stdout",
     "output_type": "stream",
     "text": [
      "MACE WINDU has a total of 25 relations\n"
     ]
    }
   ],
   "source": [
    "user_choice = str(input(\"Check total characters relations: \")).upper()\n",
    "graph = network.degree\n",
    "\n",
    "for name, val in graph:\n",
    "    if name == user_choice:\n",
    "        print(f\"{name} has a total of {val} relations\")"
   ]
  },
  {
   "attachments": {},
   "cell_type": "markdown",
   "metadata": {},
   "source": [
    "3. Character with most apperances"
   ]
  },
  {
   "cell_type": "code",
   "execution_count": 15,
   "metadata": {},
   "outputs": [
    {
     "name": "stdout",
     "output_type": "stream",
     "text": [
      "Most apperances: ['LUKE', 338]\n"
     ]
    }
   ],
   "source": [
    "result = quick_sort(node_result)[0]\n",
    "print(f\"Most apperances: {result[:2]}\")"
   ]
  },
  {
   "attachments": {},
   "cell_type": "markdown",
   "metadata": {},
   "source": [
    "4. Longest distance in network/graph (diameter)"
   ]
  },
  {
   "cell_type": "code",
   "execution_count": 21,
   "metadata": {},
   "outputs": [
    {
     "name": "stdout",
     "output_type": "stream",
     "text": [
      "The longest distance(diameter) is: 5\n"
     ]
    }
   ],
   "source": [
    "print(f\"The longest distance(diameter) is: {nx.diameter(network)}\")"
   ]
  },
  {
   "attachments": {},
   "cell_type": "markdown",
   "metadata": {},
   "source": [
    "5. Check for bridges in graph"
   ]
  },
  {
   "cell_type": "code",
   "execution_count": 22,
   "metadata": {},
   "outputs": [
    {
     "name": "stdout",
     "output_type": "stream",
     "text": [
      "There is a bridge between:[('JAR JAR', 'TARPALS'), ('LUKE', 'DACK'), ('WEDGE', 'JANSON'), ('GENERAL HUX', 'COLONEL DATOO')]\n"
     ]
    }
   ],
   "source": [
    "a = nx.has_bridges(network)\n",
    "if a == True:\n",
    "    print(f\"There is a bridge between:{list(nx.bridges(network))}\")\n",
    "else:\n",
    "    print(\"There is NONE bridges in Graph\")"
   ]
  },
  {
   "attachments": {},
   "cell_type": "markdown",
   "metadata": {},
   "source": [
    "6. Total number of characters/nodes"
   ]
  },
  {
   "cell_type": "code",
   "execution_count": 23,
   "metadata": {},
   "outputs": [
    {
     "name": "stdout",
     "output_type": "stream",
     "text": [
      "Total number of characters/nodes: 113\n"
     ]
    }
   ],
   "source": [
    "print(f\"Total number of characters/nodes: {len(network)}\")"
   ]
  }
 ],
 "metadata": {
  "kernelspec": {
   "display_name": "Python 3",
   "language": "python",
   "name": "python3"
  },
  "language_info": {
   "codemirror_mode": {
    "name": "ipython",
    "version": 3
   },
   "file_extension": ".py",
   "mimetype": "text/x-python",
   "name": "python",
   "nbconvert_exporter": "python",
   "pygments_lexer": "ipython3",
   "version": "3.10.7"
  },
  "orig_nbformat": 4
 },
 "nbformat": 4,
 "nbformat_minor": 2
}
